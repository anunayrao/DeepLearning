{
  "nbformat": 4,
  "nbformat_minor": 0,
  "metadata": {
    "colab": {
      "name": "Untitled",
      "provenance": [],
      "collapsed_sections": [],
      "toc_visible": true
    },
    "kernelspec": {
      "name": "python3",
      "display_name": "Python 3"
    },
    "accelerator": "GPU"
  },
  "cells": [
    {
      "cell_type": "markdown",
      "metadata": {
        "id": "EGronlgUHtjJ",
        "colab_type": "text"
      },
      "source": [
        "# **Neural Style Transfer**\n",
        "\n"
      ]
    },
    {
      "cell_type": "markdown",
      "metadata": {
        "id": "W2bQbna8Hpyz",
        "colab_type": "text"
      },
      "source": [
        "### **Importing Modules**"
      ]
    },
    {
      "cell_type": "code",
      "metadata": {
        "id": "f-qWeYyWV-6H",
        "colab_type": "code",
        "colab": {}
      },
      "source": [
        "import keras.backend as K\n",
        "from keras.applications import VGG19\n",
        "import numpy as np\n",
        "import time\n",
        "import scipy.misc\n",
        "from scipy.optimize import fmin_l_bfgs_b\n"
      ],
      "execution_count": 0,
      "outputs": []
    },
    {
      "cell_type": "markdown",
      "metadata": {
        "id": "gL9DX2oBMNnX",
        "colab_type": "text"
      },
      "source": [
        "### **Content Loss**"
      ]
    },
    {
      "cell_type": "code",
      "metadata": {
        "id": "7lZYpmIDWYrm",
        "colab_type": "code",
        "colab": {}
      },
      "source": [
        "def content_loss(target_content, gen_image):\n",
        "  return 0.5 * K.sum(K.square(target_content - gen_image))"
      ],
      "execution_count": 0,
      "outputs": []
    },
    {
      "cell_type": "markdown",
      "metadata": {
        "id": "sPJ3pyjBMUYJ",
        "colab_type": "text"
      },
      "source": [
        "### **Gram Matrix**"
      ]
    },
    {
      "cell_type": "code",
      "metadata": {
        "id": "xHDkhBxalIf6",
        "colab_type": "code",
        "colab": {}
      },
      "source": [
        "def gram_matrix(features):\n",
        "  return K.dot(features, K.transpose(features))"
      ],
      "execution_count": 0,
      "outputs": []
    },
    {
      "cell_type": "markdown",
      "metadata": {
        "id": "SdZiWK6dMYvx",
        "colab_type": "text"
      },
      "source": [
        "### **Style Loss**"
      ]
    },
    {
      "cell_type": "code",
      "metadata": {
        "id": "4RKA4pjg10ex",
        "colab_type": "code",
        "colab": {}
      },
      "source": [
        "def style_loss(target_style, gen_image):\n",
        "    style_features = K.batch_flatten(K.permute_dimensions(target_style, (2, 0, 1)))\n",
        "    generated_features = K.batch_flatten(K.permute_dimensions(gen_image, (2, 0, 1)))\n",
        "    style_gram_matrix = gram_matrix(style_features)\n",
        "    generated_gram_matrix = gram_matrix(generated_features)\n",
        "    return K.sum(K.square(style_gram_matrix - generated_gram_matrix)) / (4.0 * (image_size ** 2) * (image_channels ** 2))"
      ],
      "execution_count": 0,
      "outputs": []
    },
    {
      "cell_type": "markdown",
      "metadata": {
        "id": "KYEbnNBmMcsc",
        "colab_type": "text"
      },
      "source": [
        "### **Variational Loss**"
      ]
    },
    {
      "cell_type": "code",
      "metadata": {
        "id": "nH3xGr5Q3a4B",
        "colab_type": "code",
        "colab": {}
      },
      "source": [
        "def variational_loss(gen_image):\n",
        "    a = K.square(gen_image[:, :image_height-1, :image_width-1, :] - gen_image[:, :image_height-1, 1:, :])\n",
        "    b = K.square(gen_image[:, :image_height-1, :image_width-1, :] - gen_image[:, 1:, :image_width-1, :])\n",
        "    return K.sum(K.pow(a + b, 1.25))"
      ],
      "execution_count": 0,
      "outputs": []
    },
    {
      "cell_type": "markdown",
      "metadata": {
        "id": "pj5vYkCAMgev",
        "colab_type": "text"
      },
      "source": [
        "### **Total Loss**"
      ]
    },
    {
      "cell_type": "code",
      "metadata": {
        "id": "oLv87pul4qRT",
        "colab_type": "code",
        "colab": {}
      },
      "source": [
        "def total_loss(gen_image, content_layer, style_layers,content_weight, style_weight, variation_weight):\n",
        "\n",
        "    content_features = content_layer[0, :, :, :]\n",
        "    generated_features = content_layer[2, :, :, :]\n",
        "    c_loss = content_loss(content_features, generated_features)\n",
        "\n",
        "    s_loss = None\n",
        "    for layer in style_layers:\n",
        "        style_features = layer[1, :, :, :]\n",
        "        generated_features = layer[2, :, :, :]\n",
        "        if s_loss is None:\n",
        "            s_loss = style_loss(style_features, generated_features) * (style_weight / len(style_layers))\n",
        "        else:\n",
        "            s_loss += style_loss(style_features, generated_features) * (style_weight / len(style_layers))\n",
        "    v_loss = variational_loss(gen_image)\n",
        "    return content_weight * c_loss + s_loss * style_weight + variation_weight * v_loss\n",
        "  \n"
      ],
      "execution_count": 0,
      "outputs": []
    },
    {
      "cell_type": "markdown",
      "metadata": {
        "id": "slkcbngOMmE0",
        "colab_type": "text"
      },
      "source": [
        "### **Processing Image**"
      ]
    },
    {
      "cell_type": "code",
      "metadata": {
        "id": "Zj7bqoLt8yaM",
        "colab_type": "code",
        "colab": {}
      },
      "source": [
        "def process_image(image):\n",
        "    image = image.resize((image_width, image_height))\n",
        "    image = np.asarray(image, dtype='float32')\n",
        "    image = np.expand_dims(image, axis=0)\n",
        "    image = image[:, :, :, :3]\n",
        "    image[:, :, :, 0] -= 103.939\n",
        "    image[:, :, :, 1] -= 116.779\n",
        "    image[:, :, :, 2] -= 123.68\n",
        "    image = image[:, :, :, ::-1]\n",
        "    return image"
      ],
      "execution_count": 0,
      "outputs": []
    },
    {
      "cell_type": "markdown",
      "metadata": {
        "id": "X66rUUgRMrHT",
        "colab_type": "text"
      },
      "source": [
        "### **Save Image**"
      ]
    },
    {
      "cell_type": "code",
      "metadata": {
        "id": "JaSWN1A-W7WV",
        "colab_type": "code",
        "colab": {}
      },
      "source": [
        "from matplotlib import pyplot\n",
        "def save_image(filename, generated):\n",
        "    generated = generated.reshape((image_height, image_width, 3))\n",
        "    generated = generated[:, :, ::-1]\n",
        "    generated[:, :, 0] += 103.939\n",
        "    generated[:, :, 1] += 116.779\n",
        "    generated[:, :, 2] += 123.68\n",
        "    generated = np.clip(generated, 0, 255).astype('uint8')\n",
        "    pyplot.imshow(generated)\n",
        "    pyplot.savefig(filename)\n",
        "    pyplot.close()"
      ],
      "execution_count": 0,
      "outputs": []
    },
    {
      "cell_type": "markdown",
      "metadata": {
        "id": "w4c4n6dXM97H",
        "colab_type": "text"
      },
      "source": [
        ""
      ]
    },
    {
      "cell_type": "code",
      "metadata": {
        "id": "KcPNYzUu_0NX",
        "colab_type": "code",
        "colab": {}
      },
      "source": [
        "from PIL import Image\n",
        "style_weight = 1.0\n",
        "content_weight = 0.025\n",
        "variation_weight = 1.0\n",
        "image_height = 512\n",
        "image_width = 512\n",
        "image_channels = 3\n",
        "image_size = image_width * image_height\n",
        "content_image = Image.open(\"/content/content1.png\")\n",
        "content_image = process_image(content_image)\n",
        "style_image = Image.open(\"/content/style1.jpg\")\n",
        "style_image = process_image(style_image)\n",
        "gen_image = np.random.uniform(0, 255, (1, image_height, image_width, 3)) - 128\n",
        "style = K.variable(style_image)\n",
        "content = K.variable(content_image)\n",
        "gen_image = K.placeholder((1, image_height, image_width, 3))\n",
        "loss = K.variable(0.)\n",
        "input_tensor = K.concatenate([content, style, gen_image], axis=0)\n",
        "model = VGG19(input_tensor=input_tensor, weights='imagenet', include_top=False)\n",
        "layers = dict([(layer.name, layer.output) for layer in model.layers])\n",
        "content_layer = layers['block2_conv2']\n",
        "style_layers = ['block1_conv2', 'block2_conv2', 'block3_conv3', 'block4_conv3', 'block5_conv3']\n",
        "style_layers = [layers[layer] for layer in style_layers]\n",
        "loss = total_loss(gen_image,content_layer, style_layers, content_weight, style_weight,variation_weight)\n",
        "grads = K.gradients(loss, gen_image)\n",
        "outputs = [loss]\n",
        "outputs += grads\n",
        "f_outputs = K.function([gen_image], outputs)"
      ],
      "execution_count": 0,
      "outputs": []
    },
    {
      "cell_type": "markdown",
      "metadata": {
        "id": "bdOvv_ebc9yQ",
        "colab_type": "text"
      },
      "source": [
        "### **Evaluator Class**"
      ]
    },
    {
      "cell_type": "code",
      "metadata": {
        "id": "NLjvgM-iCd-J",
        "colab_type": "code",
        "colab": {}
      },
      "source": [
        "def eval_loss_and_grads(generated):\n",
        "    generated = generated.reshape((1, image_height, image_width, 3))\n",
        "    outs = f_outputs([generated])\n",
        "    loss_value = outs[0]\n",
        "    grad_values = outs[1].flatten().astype('float64')\n",
        "    return loss_value, grad_values\n",
        "\n",
        "class Evaluator(object):\n",
        "    def __init__(self):\n",
        "        self.loss_value = None\n",
        "        self.grad_values = None\n",
        "\n",
        "    def loss(self, x):\n",
        "        assert self.loss_value is None\n",
        "        loss_value, grad_values = eval_loss_and_grads(x)\n",
        "        self.loss_value = loss_value\n",
        "        self.grad_values = grad_values\n",
        "        return self.loss_value\n",
        "\n",
        "    def grads(self, x):\n",
        "        assert self.loss_value is not None\n",
        "        grad_values = np.copy(self.grad_values)\n",
        "        self.loss_value = None\n",
        "        self.grad_values = None\n",
        "        return grad_values\n"
      ],
      "execution_count": 0,
      "outputs": []
    },
    {
      "cell_type": "markdown",
      "metadata": {
        "id": "Lk-cYeqZ9ryt",
        "colab_type": "text"
      },
      "source": [
        "### **Optimization**"
      ]
    },
    {
      "cell_type": "code",
      "metadata": {
        "id": "6sE1az3CCtxe",
        "colab_type": "code",
        "outputId": "9a659835-be95-4fd0-f4a3-2e461f8ceda1",
        "colab": {
          "base_uri": "https://localhost:8080/",
          "height": 1000
        }
      },
      "source": [
        "evaluator = Evaluator()\n",
        "iterations = 50\n",
        "generated_image = np.random.uniform(0, 255, (1, image_height, image_width, 3)) - 128\n",
        "for i in range(iterations):\n",
        "    print('Iteration:', i)\n",
        "    start_time = time.time()\n",
        "    generated_image, min_val, info = fmin_l_bfgs_b(evaluator.loss, generated_image.flatten(),\n",
        "                                                 fprime=evaluator.grads, maxfun=20)\n",
        "    print('Loss:', min_val)\n",
        "    end_time = time.time()\n",
        "    print('Iteration {} took {} seconds'.format(i, end_time - start_time))\n",
        "    name = \"/content/generated/generated_image%04d\" % (i+1)\n",
        "    if((i+1)%10==0):\n",
        "      save_image(name, generated_image)\n",
        "      print('Saved image to: {}'.format(name))"
      ],
      "execution_count": 0,
      "outputs": [
        {
          "output_type": "stream",
          "text": [
            "Iteration: 0\n",
            "Loss: 13193906000.0\n",
            "Iteration 0 took 17.213642358779907 seconds\n",
            "Iteration: 1\n",
            "Loss: 9242053000.0\n",
            "Iteration 1 took 16.348997592926025 seconds\n",
            "Iteration: 2\n",
            "Loss: 7180179000.0\n",
            "Iteration 2 took 16.56907320022583 seconds\n",
            "Iteration: 3\n",
            "Loss: 6269006000.0\n",
            "Iteration 3 took 16.631929397583008 seconds\n",
            "Iteration: 4\n",
            "Loss: 5717539000.0\n",
            "Iteration 4 took 16.74712562561035 seconds\n",
            "Iteration: 5\n",
            "Loss: 5392972300.0\n",
            "Iteration 5 took 16.77759552001953 seconds\n",
            "Iteration: 6\n",
            "Loss: 5177689000.0\n",
            "Iteration 6 took 16.78388237953186 seconds\n",
            "Iteration: 7\n",
            "Loss: 5050682400.0\n",
            "Iteration 7 took 16.686538696289062 seconds\n",
            "Iteration: 8\n",
            "Loss: 4956804600.0\n",
            "Iteration 8 took 16.761302709579468 seconds\n",
            "Iteration: 9\n",
            "Loss: 4874658000.0\n",
            "Iteration 9 took 16.87691903114319 seconds\n",
            "Saved image to: /content/generated/generated_image0010\n",
            "Iteration: 10\n",
            "Loss: 10021169000.0\n",
            "Iteration 10 took 16.54092288017273 seconds\n",
            "Iteration: 11\n",
            "Loss: 7116305400.0\n",
            "Iteration 11 took 16.714433431625366 seconds\n",
            "Iteration: 12\n",
            "Loss: 6129674000.0\n",
            "Iteration 12 took 16.677687883377075 seconds\n",
            "Iteration: 13\n",
            "Loss: 5671991000.0\n",
            "Iteration 13 took 16.785342693328857 seconds\n",
            "Iteration: 14\n",
            "Loss: 5415896000.0\n",
            "Iteration 14 took 16.66898012161255 seconds\n",
            "Iteration: 15\n",
            "Loss: 5201715000.0\n",
            "Iteration 15 took 16.766112089157104 seconds\n",
            "Iteration: 16\n",
            "Loss: 5045666000.0\n",
            "Iteration 16 took 16.771985292434692 seconds\n",
            "Iteration: 17\n",
            "Loss: 4961188000.0\n",
            "Iteration 17 took 16.720958471298218 seconds\n",
            "Iteration: 18\n",
            "Loss: 4893828000.0\n",
            "Iteration 18 took 16.72760796546936 seconds\n",
            "Iteration: 19\n",
            "Loss: 4840765400.0\n",
            "Iteration 19 took 16.724342584609985 seconds\n",
            "Saved image to: /content/generated/generated_image0020\n",
            "Iteration: 20\n",
            "Loss: 10814538000.0\n",
            "Iteration 20 took 16.546051025390625 seconds\n",
            "Iteration: 21\n",
            "Loss: 7456267000.0\n",
            "Iteration 21 took 16.582018852233887 seconds\n",
            "Iteration: 22\n",
            "Loss: 6425956400.0\n",
            "Iteration 22 took 16.552554607391357 seconds\n",
            "Iteration: 23\n",
            "Loss: 5932991000.0\n",
            "Iteration 23 took 16.66761302947998 seconds\n",
            "Iteration: 24\n",
            "Loss: 5625986600.0\n",
            "Iteration 24 took 16.663235187530518 seconds\n",
            "Iteration: 25\n",
            "Loss: 5357108000.0\n",
            "Iteration 25 took 16.758671760559082 seconds\n",
            "Iteration: 26\n",
            "Loss: 5176568000.0\n",
            "Iteration 26 took 16.7551109790802 seconds\n",
            "Iteration: 27\n",
            "Loss: 5046867000.0\n",
            "Iteration 27 took 16.75589656829834 seconds\n",
            "Iteration: 28\n",
            "Loss: 4951679000.0\n",
            "Iteration 28 took 16.75429081916809 seconds\n",
            "Iteration: 29\n",
            "Loss: 4887188000.0\n",
            "Iteration 29 took 16.74139928817749 seconds\n",
            "Saved image to: /content/generated/generated_image0030\n",
            "Iteration: 30\n",
            "Loss: 10541696000.0\n",
            "Iteration 30 took 16.529433012008667 seconds\n",
            "Iteration: 31\n",
            "Loss: 7122171400.0\n",
            "Iteration 31 took 16.546367406845093 seconds\n",
            "Iteration: 32\n",
            "Loss: 6095595000.0\n",
            "Iteration 32 took 16.65081262588501 seconds\n",
            "Iteration: 33\n",
            "Loss: 5677850600.0\n",
            "Iteration 33 took 16.77484440803528 seconds\n",
            "Iteration: 34\n",
            "Loss: 5423696000.0\n",
            "Iteration 34 took 16.77371859550476 seconds\n",
            "Iteration: 35\n",
            "Loss: 5233383000.0\n",
            "Iteration 35 took 16.798619508743286 seconds\n",
            "Iteration: 36\n",
            "Loss: 5104035000.0\n",
            "Iteration 36 took 16.686476230621338 seconds\n",
            "Iteration: 37\n",
            "Loss: 5008754700.0\n",
            "Iteration 37 took 16.7693989276886 seconds\n",
            "Iteration: 38\n",
            "Loss: 4933947400.0\n",
            "Iteration 38 took 16.77955460548401 seconds\n",
            "Iteration: 39\n",
            "Loss: 4878215700.0\n",
            "Iteration 39 took 16.754046201705933 seconds\n",
            "Saved image to: /content/generated/generated_image0040\n",
            "Iteration: 40\n",
            "Loss: 11429017000.0\n",
            "Iteration 40 took 16.43876338005066 seconds\n",
            "Iteration: 41\n",
            "Loss: 7468704000.0\n",
            "Iteration 41 took 16.594929218292236 seconds\n",
            "Iteration: 42\n",
            "Loss: 6380897000.0\n",
            "Iteration 42 took 16.700954914093018 seconds\n",
            "Iteration: 43\n",
            "Loss: 5897059300.0\n",
            "Iteration 43 took 16.559703588485718 seconds\n",
            "Iteration: 44\n",
            "Loss: 5587158500.0\n",
            "Iteration 44 took 16.680355072021484 seconds\n",
            "Iteration: 45\n",
            "Loss: 5351885000.0\n",
            "Iteration 45 took 16.790321826934814 seconds\n",
            "Iteration: 46\n",
            "Loss: 5201514000.0\n",
            "Iteration 46 took 16.697046518325806 seconds\n",
            "Iteration: 47\n",
            "Loss: 5085219000.0\n",
            "Iteration 47 took 16.81148052215576 seconds\n",
            "Iteration: 48\n",
            "Loss: 4987149000.0\n",
            "Iteration 48 took 16.775407552719116 seconds\n",
            "Iteration: 49\n",
            "Loss: 4914410500.0\n",
            "Iteration 49 took 16.85582995414734 seconds\n",
            "Saved image to: /content/generated/generated_image0050\n"
          ],
          "name": "stdout"
        }
      ]
    },
    {
      "cell_type": "code",
      "metadata": {
        "id": "KQzpThbMO8j7",
        "colab_type": "code",
        "colab": {}
      },
      "source": [
        ""
      ],
      "execution_count": 0,
      "outputs": []
    },
    {
      "cell_type": "code",
      "metadata": {
        "id": "K4ksiuMxZNng",
        "colab_type": "code",
        "outputId": "195816e7-775b-4b00-dc47-ab3d45e44ccb",
        "colab": {
          "base_uri": "https://localhost:8080/",
          "height": 340
        }
      },
      "source": [
        "!zip -r /content/file3.zip /content/generated"
      ],
      "execution_count": 0,
      "outputs": [
        {
          "output_type": "stream",
          "text": [
            "  adding: content/generated/ (stored 0%)\n",
            "  adding: content/generated/generated_image0160.png (deflated 0%)\n",
            "  adding: content/generated/generated_image0130.png (deflated 0%)\n",
            "  adding: content/generated/generated_image0180.png (deflated 0%)\n",
            "  adding: content/generated/generated_image0040.png (deflated 0%)\n",
            "  adding: content/generated/generated_image0170.png (deflated 0%)\n",
            "  adding: content/generated/generated_image0020.png (deflated 0%)\n",
            "  adding: content/generated/generated_image0010.png (deflated 0%)\n",
            "  adding: content/generated/generated_image0050.png (deflated 0%)\n",
            "  adding: content/generated/generated_image0080.png (deflated 0%)\n",
            "  adding: content/generated/generated_image0100.png (deflated 0%)\n",
            "  adding: content/generated/generated_image0120.png (deflated 0%)\n",
            "  adding: content/generated/generated_image0090.png (deflated 0%)\n",
            "  adding: content/generated/generated_image0030.png (deflated 0%)\n",
            "  adding: content/generated/generated_image0150.png (deflated 0%)\n",
            "  adding: content/generated/generated_image0070.png (deflated 0%)\n",
            "  adding: content/generated/generated_image0140.png (deflated 0%)\n",
            "  adding: content/generated/generated_image0110.png (deflated 0%)\n",
            "  adding: content/generated/generated_image0060.png (deflated 0%)\n"
          ],
          "name": "stdout"
        }
      ]
    },
    {
      "cell_type": "code",
      "metadata": {
        "id": "MWSRx9rRjGFy",
        "colab_type": "code",
        "colab": {}
      },
      "source": [
        "from google.colab import files\n",
        "files.download(\"/content/file3.zip\")"
      ],
      "execution_count": 0,
      "outputs": []
    },
    {
      "cell_type": "code",
      "metadata": {
        "id": "8re3kUkvjKYl",
        "colab_type": "code",
        "colab": {}
      },
      "source": [
        ""
      ],
      "execution_count": 0,
      "outputs": []
    }
  ]
}